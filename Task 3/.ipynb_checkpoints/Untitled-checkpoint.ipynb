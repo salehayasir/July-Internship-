{
 "cells": [
  {
   "cell_type": "code",
   "execution_count": null,
   "id": "1b90dd63-86f8-4d4b-9cae-5fad91a5751e",
   "metadata": {},
   "outputs": [
    {
     "name": "stdout",
     "output_type": "stream",
     "text": [
      "Requirement already satisfied: pip in c:\\users\\lenovo\\appdata\\local\\programs\\python\\python312\\lib\\site-packages (24.2)\n",
      "Collecting pip\n",
      "  Using cached pip-25.1.1-py3-none-any.whl.metadata (3.6 kB)\n",
      "Using cached pip-25.1.1-py3-none-any.whl (1.8 MB)\n"
     ]
    },
    {
     "name": "stderr",
     "output_type": "stream",
     "text": [
      "\n",
      "[notice] A new release of pip is available: 24.2 -> 25.1.1\n",
      "[notice] To update, run: python.exe -m pip install --upgrade pip\n",
      "ERROR: To modify pip, please run the following command:\n",
      "C:\\Users\\Lenovo\\AppData\\Local\\Programs\\Python\\Python312\\python.exe -m pip install --upgrade pip\n"
     ]
    }
   ],
   "source": [
    "!pip install --upgrade pip\n",
    "!pip install pystan~=2.19.1.1\n",
    "!pip install prophet\n"
   ]
  },
  {
   "cell_type": "code",
   "execution_count": 4,
   "id": "1df3948f-47fe-4c87-ac1a-40aa514b902c",
   "metadata": {},
   "outputs": [
    {
     "ename": "ModuleNotFoundError",
     "evalue": "No module named 'prophet'",
     "output_type": "error",
     "traceback": [
      "\u001b[1;31m---------------------------------------------------------------------------\u001b[0m",
      "\u001b[1;31mModuleNotFoundError\u001b[0m                       Traceback (most recent call last)",
      "Cell \u001b[1;32mIn[4], line 9\u001b[0m\n\u001b[0;32m      7\u001b[0m \u001b[38;5;28;01mfrom\u001b[39;00m \u001b[38;5;21;01msklearn\u001b[39;00m\u001b[38;5;21;01m.\u001b[39;00m\u001b[38;5;21;01mmetrics\u001b[39;00m \u001b[38;5;28;01mimport\u001b[39;00m mean_absolute_error, mean_squared_error\n\u001b[0;32m      8\u001b[0m \u001b[38;5;28;01mfrom\u001b[39;00m \u001b[38;5;21;01mstatsmodels\u001b[39;00m\u001b[38;5;21;01m.\u001b[39;00m\u001b[38;5;21;01mtsa\u001b[39;00m\u001b[38;5;21;01m.\u001b[39;00m\u001b[38;5;21;01marima\u001b[39;00m\u001b[38;5;21;01m.\u001b[39;00m\u001b[38;5;21;01mmodel\u001b[39;00m \u001b[38;5;28;01mimport\u001b[39;00m ARIMA\n\u001b[1;32m----> 9\u001b[0m \u001b[38;5;28;01mfrom\u001b[39;00m \u001b[38;5;21;01mprophet\u001b[39;00m \u001b[38;5;28;01mimport\u001b[39;00m Prophet\n\u001b[0;32m     10\u001b[0m \u001b[38;5;28;01mfrom\u001b[39;00m \u001b[38;5;21;01mxgboost\u001b[39;00m \u001b[38;5;28;01mimport\u001b[39;00m XGBRegressor\n\u001b[0;32m     11\u001b[0m \u001b[38;5;28;01mfrom\u001b[39;00m \u001b[38;5;21;01msklearn\u001b[39;00m\u001b[38;5;21;01m.\u001b[39;00m\u001b[38;5;21;01mmodel_selection\u001b[39;00m \u001b[38;5;28;01mimport\u001b[39;00m train_test_split\n",
      "\u001b[1;31mModuleNotFoundError\u001b[0m: No module named 'prophet'"
     ]
    }
   ],
   "source": [
    "# Step 1: Import Libraries\n",
    "\n",
    "import pandas as pd\n",
    "import numpy as np\n",
    "import matplotlib.pyplot as plt\n",
    "import seaborn as sns\n",
    "from sklearn.metrics import mean_absolute_error, mean_squared_error\n",
    "from statsmodels.tsa.arima.model import ARIMA\n",
    "from prophet import Prophet\n",
    "from xgboost import XGBRegressor\n",
    "from sklearn.model_selection import train_test_split"
   ]
  },
  {
   "cell_type": "code",
   "execution_count": null,
   "id": "8cfc4dea-0dfa-4814-9a01-e8fe357fe466",
   "metadata": {},
   "outputs": [],
   "source": [
    "# Step 2: Load and Preprocess Data\n",
    "df = pd.read_csv('household_power_consumption.txt', sep=';', low_memory=False, na_values='?')\n",
    "\n",
    "# Combine Date and Time into datetime\n",
    "df['Datetime'] = pd.to_datetime(df['Date'] + ' ' + df['Time'], format=\"%d/%m/%Y %H:%M:%S\")\n",
    "df.set_index('Datetime', inplace=True)\n",
    "\n",
    "# Convert to numeric and drop NA\n",
    "df['Global_active_power'] = pd.to_numeric(df['Global_active_power'], errors='coerce')\n",
    "df = df[['Global_active_power']].dropna()\n",
    "\n",
    "# Resample to hourly mean\n",
    "data_hourly = df.resample('H').mean()"
   ]
  },
  {
   "cell_type": "code",
   "execution_count": null,
   "id": "3e26b6f6-f476-4d7d-af55-d3d57b82528e",
   "metadata": {},
   "outputs": [],
   "source": [
    "# Step 3: Visualize Time Series\n",
    "plt.figure(figsize=(12, 5))\n",
    "data_hourly['Global_active_power'].plot()\n",
    "plt.title('Hourly Global Active Power Usage')\n",
    "plt.ylabel('kW')\n",
    "plt.grid()\n",
    "plt.show()"
   ]
  },
  {
   "cell_type": "code",
   "execution_count": null,
   "id": "02db7e73-b8ea-4ad8-b0fd-67226ed7b473",
   "metadata": {},
   "outputs": [],
   "source": [
    "# Step 4: Feature Engineering for XGBoost\n",
    "df_feat = data_hourly.copy()\n",
    "df_feat['hour'] = df_feat.index.hour\n",
    "df_feat['dayofweek'] = df_feat.index.dayofweek\n",
    "df_feat['month'] = df_feat.index.month\n",
    "df_feat['lag1'] = df_feat['Global_active_power'].shift(1)\n",
    "df_feat['lag24'] = df_feat['Global_active_power'].shift(24)\n",
    "df_feat = df_feat.dropna()\n",
    "\n",
    "# Split into train/test\n",
    "train = df_feat.loc[:'2009-10-31']\n",
    "test = df_feat.loc['2009-11-01':]\n",
    "\n",
    "X_train = train.drop('Global_active_power', axis=1)\n",
    "y_train = train['Global_active_power']\n",
    "X_test = test.drop('Global_active_power', axis=1)\n",
    "y_test = test['Global_active_power']"
   ]
  },
  {
   "cell_type": "code",
   "execution_count": null,
   "id": "a4dc90ed-4120-4daa-a4c6-c41649aa223b",
   "metadata": {},
   "outputs": [],
   "source": [
    "# Step 5: ARIMA Model\n",
    "arima_model = ARIMA(data_hourly['Global_active_power'][:'2009-10-31'], order=(5,1,0))\n",
    "arima_fit = arima_model.fit()\n",
    "arima_pred = arima_fit.predict(start=len(data_hourly[:'2009-10-31']), \n",
    "                               end=len(data_hourly[:'2009-10-31'])+len(test)-1, \n",
    "                               typ=\"levels\")"
   ]
  },
  {
   "cell_type": "code",
   "execution_count": null,
   "id": "0bedffb1-cc99-43c9-8fc7-6c86ed91819f",
   "metadata": {},
   "outputs": [],
   "source": [
    "# Step 6: Prophet Model\n",
    "df_prophet = data_hourly.reset_index().rename(columns={'Datetime': 'ds', 'Global_active_power': 'y'})\n",
    "train_prophet = df_prophet[df_prophet['ds'] <= '2009-10-31']\n",
    "test_prophet = df_prophet[df_prophet['ds'] > '2009-10-31']\n",
    "\n",
    "prophet_model = Prophet()\n",
    "prophet_model.fit(train_prophet)\n",
    "future = prophet_model.make_future_dataframe(periods=len(test), freq='H')\n",
    "forecast = prophet_model.predict(future)\n",
    "prophet_pred = forecast.set_index('ds').loc['2009-11-01':]['yhat']"
   ]
  },
  {
   "cell_type": "code",
   "execution_count": null,
   "id": "7ba20810-c92c-4c6b-ab82-f85ec9169144",
   "metadata": {},
   "outputs": [],
   "source": [
    "# Step 7: XGBoost Model\n",
    "xgb_model = XGBRegressor(n_estimators=100)\n",
    "xgb_model.fit(X_train, y_train)\n",
    "xgb_pred = xgb_model.predict(X_test)"
   ]
  },
  {
   "cell_type": "code",
   "execution_count": null,
   "id": "4c12cb7f-7534-42d5-aed0-728c794f8e09",
   "metadata": {},
   "outputs": [],
   "source": [
    "# Step 8: Evaluation\n",
    "def evaluate(true, pred, model_name):\n",
    "    mae = mean_absolute_error(true, pred)\n",
    "    rmse = np.sqrt(mean_squared_error(true, pred))\n",
    "    print(f'{model_name} -> MAE: {mae:.3f}, RMSE: {rmse:.3f}')\n",
    "\n",
    "evaluate(y_test, arima_pred, 'ARIMA')\n",
    "evaluate(y_test, prophet_pred.values, 'Prophet')\n",
    "evaluate(y_test, xgb_pred, 'XGBoost')"
   ]
  },
  {
   "cell_type": "code",
   "execution_count": null,
   "id": "0405d658-20a1-4dc7-a4c5-9f55322105e9",
   "metadata": {},
   "outputs": [],
   "source": [
    "# Step 9: Plot Actual vs Predicted\n",
    "plt.figure(figsize=(15,5))\n",
    "plt.plot(y_test.index, y_test.values, label='Actual')\n",
    "plt.plot(y_test.index, arima_pred, label='ARIMA')\n",
    "plt.plot(y_test.index, prophet_pred.values, label='Prophet')\n",
    "plt.plot(y_test.index, xgb_pred, label='XGBoost')\n",
    "plt.legend()\n",
    "plt.title(\"Actual vs Forecasted Energy Usage\")\n",
    "plt.xlabel(\"Time\")\n",
    "plt.ylabel(\"Global Active Power (kW)\")\n",
    "plt.grid()\n",
    "plt.show()"
   ]
  }
 ],
 "metadata": {
  "kernelspec": {
   "display_name": "Python 3 (ipykernel)",
   "language": "python",
   "name": "python3"
  },
  "language_info": {
   "codemirror_mode": {
    "name": "ipython",
    "version": 3
   },
   "file_extension": ".py",
   "mimetype": "text/x-python",
   "name": "python",
   "nbconvert_exporter": "python",
   "pygments_lexer": "ipython3",
   "version": "3.12.6"
  }
 },
 "nbformat": 4,
 "nbformat_minor": 5
}
