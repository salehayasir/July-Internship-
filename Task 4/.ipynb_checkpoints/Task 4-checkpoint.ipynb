{
 "cells": [
  {
   "cell_type": "code",
   "execution_count": 4,
   "id": "fd00fb78-0589-4895-a499-33271a7a4cdd",
   "metadata": {},
   "outputs": [],
   "source": [
    "# Step 1: Import Libraries\n",
    "\n",
    "import pandas as pd\n",
    "import numpy as np\n",
    "import matplotlib.pyplot as plt\n",
    "import seaborn as sns\n",
    "\n",
    "from sklearn.model_selection import train_test_split\n",
    "from sklearn.impute import SimpleImputer\n",
    "from sklearn.preprocessing import LabelEncoder\n",
    "from sklearn.linear_model import LogisticRegression\n",
    "from sklearn.metrics import confusion_matrix, roc_curve"
   ]
  },
  {
   "cell_type": "code",
   "execution_count": 5,
   "id": "8a9418fd-7b22-4d18-9513-9d7730b171f8",
   "metadata": {},
   "outputs": [],
   "source": [
    "# Step 2: Load Dataset\n",
    "df = pd.read_csv('application_train.csv')"
   ]
  },
  {
   "cell_type": "code",
   "execution_count": 6,
   "id": "2221f71a-e81f-4a49-847d-23cea9c0af8e",
   "metadata": {},
   "outputs": [],
   "source": [
    "# Step 3: Basic Preprocessing\n",
    "# Drop columns with more than 40% missing values\n",
    "missing = df.isnull().mean()\n",
    "df = df.loc[:, missing < 0.4]\n",
    "\n",
    "# Separate categorical and numerical\n",
    "cat_cols = df.select_dtypes(include='object').columns\n",
    "num_cols = df.select_dtypes(include=np.number).columns.drop('TARGET')\n",
    "\n",
    "# Fill missing values\n",
    "df[cat_cols] = df[cat_cols].fillna('Missing')\n",
    "num_imputer = SimpleImputer(strategy='median')\n",
    "df[num_cols] = num_imputer.fit_transform(df[num_cols])\n",
    "\n",
    "# Label encode categorical columns\n",
    "for col in cat_cols:\n",
    "    le = LabelEncoder()\n",
    "    df[col] = le.fit_transform(df[col].astype(str))"
   ]
  },
  {
   "cell_type": "code",
   "execution_count": 7,
   "id": "e24bd581-eae4-49ba-a4af-ee9b380d8f06",
   "metadata": {},
   "outputs": [],
   "source": [
    "# Step 4: Feature Selection\n",
    "\n",
    "X = df.drop(['SK_ID_CURR', 'TARGET'], axis=1)\n",
    "y = df['TARGET']"
   ]
  },
  {
   "cell_type": "code",
   "execution_count": 8,
   "id": "7196f8bf-9755-4654-942c-6a3e876ef5e9",
   "metadata": {},
   "outputs": [],
   "source": [
    "# Step 5: Train-Test Split\n",
    "\n",
    "X_train, X_test, y_train, y_test = train_test_split(X, y, stratify=y, test_size=0.2, random_state=42)"
   ]
  },
  {
   "cell_type": "code",
   "execution_count": null,
   "id": "fb69c2bf-ea1b-4f6e-be93-485431a7b908",
   "metadata": {},
   "outputs": [],
   "source": [
    "# Step 6: Model Training\n",
    "\n",
    "model = LogisticRegression(max_iter=1000)\n",
    "model.fit(X_train, y_train)"
   ]
  },
  {
   "cell_type": "code",
   "execution_count": null,
   "id": "89525ca7-5c94-44a7-a1a1-cb734ae2db9f",
   "metadata": {},
   "outputs": [],
   "source": [
    "# Step 7: Predictions and Probabilities\n",
    "\n",
    "y_probs = model.predict_proba(X_test)[:, 1]"
   ]
  },
  {
   "cell_type": "code",
   "execution_count": null,
   "id": "856c8e78-5f9a-48f9-9c23-60a58a8644e7",
   "metadata": {},
   "outputs": [],
   "source": [
    "# Step 8: Business Cost Optimization\n",
    "\n",
    "# Define costs: FP = approving bad loan, FN = rejecting good customer\n",
    "cost_fp = 10000   # False Positive (bad approved)\n",
    "cost_fn = 1000    # False Negative (good rejected)\n",
    "\n",
    "thresholds = np.linspace(0.01, 0.99, 100)\n",
    "total_costs = []\n",
    "\n",
    "for thresh in thresholds:\n",
    "    preds = (y_probs >= thresh).astype(int)\n",
    "    tn, fp, fn, tp = confusion_matrix(y_test, preds).ravel()\n",
    "    total_cost = (fp * cost_fp) + (fn * cost_fn)\n",
    "    total_costs.append(total_cost)"
   ]
  },
  {
   "cell_type": "code",
   "execution_count": null,
   "id": "f9b4ae45-e12f-4650-b68c-faef1009fded",
   "metadata": {},
   "outputs": [],
   "source": [
    "# Step 9: Plot Cost vs Threshold\n",
    "\n",
    "plt.figure(figsize=(10, 5))\n",
    "plt.plot(thresholds, total_costs, label='Total Business Cost')\n",
    "plt.xlabel('Threshold')\n",
    "plt.ylabel('Cost')\n",
    "plt.title('Business Cost vs. Threshold')\n",
    "plt.grid(True)\n",
    "plt.legend()\n",
    "plt.show()"
   ]
  },
  {
   "cell_type": "code",
   "execution_count": null,
   "id": "14c24521-152d-436e-89a2-8d3a37e8e60a",
   "metadata": {},
   "outputs": [],
   "source": [
    "# Step 10: Optimal Threshold\n",
    "\n",
    "optimal_thresh = thresholds[np.argmin(total_costs)]\n",
    "print(f\"Optimal Threshold = {optimal_thresh:.2f}\")"
   ]
  }
 ],
 "metadata": {
  "kernelspec": {
   "display_name": "Python 3 (ipykernel)",
   "language": "python",
   "name": "python3"
  },
  "language_info": {
   "codemirror_mode": {
    "name": "ipython",
    "version": 3
   },
   "file_extension": ".py",
   "mimetype": "text/x-python",
   "name": "python",
   "nbconvert_exporter": "python",
   "pygments_lexer": "ipython3",
   "version": "3.12.6"
  }
 },
 "nbformat": 4,
 "nbformat_minor": 5
}
